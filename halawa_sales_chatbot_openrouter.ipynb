{
 "cells": [
  {
   "cell_type": "markdown",
   "id": "85b3754a",
   "metadata": {},
   "source": [
    "# 🤖 HalawaWax AI Chatbot (Using OpenRouter.ai)\n",
    "This notebook builds a persuasive AI chatbot that:\n",
    "- Uses FAISS for product retrieval\n",
    "- Sends queries to OpenRouter.ai for generative responses\n",
    "\n",
    "🔐 You'll need a free API key from https://openrouter.ai"
   ]
  },
  {
   "cell_type": "code",
   "execution_count": 1,
   "id": "afe83cb7",
   "metadata": {},
   "outputs": [
    {
     "name": "stdout",
     "output_type": "stream",
     "text": [
      "Requirement already satisfied: faiss-cpu in c:\\python313\\lib\\site-packages (1.11.0)Note: you may need to restart the kernel to use updated packages.\n"
     ]
    },
    {
     "name": "stderr",
     "output_type": "stream",
     "text": [
      "\n",
      "[notice] A new release of pip is available: 24.3.1 -> 25.1.1\n",
      "[notice] To update, run: python.exe -m pip install --upgrade pip\n"
     ]
    },
    {
     "name": "stdout",
     "output_type": "stream",
     "text": [
      "\n",
      "Requirement already satisfied: sentence-transformers in c:\\python313\\lib\\site-packages (4.1.0)\n",
      "Requirement already satisfied: pandas in c:\\python313\\lib\\site-packages (2.2.3)\n",
      "Requirement already satisfied: openai in c:\\python313\\lib\\site-packages (0.28.0)\n",
      "Requirement already satisfied: numpy<3.0,>=1.25.0 in c:\\python313\\lib\\site-packages (from faiss-cpu) (2.2.5)\n",
      "Requirement already satisfied: packaging in c:\\users\\rehan's pc\\appdata\\roaming\\python\\python313\\site-packages (from faiss-cpu) (24.2)\n",
      "Requirement already satisfied: transformers<5.0.0,>=4.41.0 in c:\\python313\\lib\\site-packages (from sentence-transformers) (4.51.3)\n",
      "Requirement already satisfied: tqdm in c:\\python313\\lib\\site-packages (from sentence-transformers) (4.67.1)\n",
      "Requirement already satisfied: torch>=1.11.0 in c:\\python313\\lib\\site-packages (from sentence-transformers) (2.7.0)\n",
      "Requirement already satisfied: scikit-learn in c:\\python313\\lib\\site-packages (from sentence-transformers) (1.6.1)\n",
      "Requirement already satisfied: scipy in c:\\python313\\lib\\site-packages (from sentence-transformers) (1.15.2)\n",
      "Requirement already satisfied: huggingface-hub>=0.20.0 in c:\\python313\\lib\\site-packages (from sentence-transformers) (0.30.2)\n",
      "Requirement already satisfied: Pillow in c:\\python313\\lib\\site-packages (from sentence-transformers) (11.2.1)\n",
      "Requirement already satisfied: typing_extensions>=4.5.0 in c:\\python313\\lib\\site-packages (from sentence-transformers) (4.13.2)\n",
      "Requirement already satisfied: python-dateutil>=2.8.2 in c:\\users\\rehan's pc\\appdata\\roaming\\python\\python313\\site-packages (from pandas) (2.9.0.post0)\n",
      "Requirement already satisfied: pytz>=2020.1 in c:\\python313\\lib\\site-packages (from pandas) (2025.2)\n",
      "Requirement already satisfied: tzdata>=2022.7 in c:\\python313\\lib\\site-packages (from pandas) (2025.2)\n",
      "Requirement already satisfied: requests>=2.20 in c:\\python313\\lib\\site-packages (from openai) (2.32.3)\n",
      "Requirement already satisfied: aiohttp in c:\\python313\\lib\\site-packages (from openai) (3.11.18)\n",
      "Requirement already satisfied: filelock in c:\\python313\\lib\\site-packages (from huggingface-hub>=0.20.0->sentence-transformers) (3.18.0)\n",
      "Requirement already satisfied: fsspec>=2023.5.0 in c:\\python313\\lib\\site-packages (from huggingface-hub>=0.20.0->sentence-transformers) (2025.3.2)\n",
      "Requirement already satisfied: pyyaml>=5.1 in c:\\python313\\lib\\site-packages (from huggingface-hub>=0.20.0->sentence-transformers) (6.0.2)\n",
      "Requirement already satisfied: six>=1.5 in c:\\users\\rehan's pc\\appdata\\roaming\\python\\python313\\site-packages (from python-dateutil>=2.8.2->pandas) (1.17.0)\n",
      "Requirement already satisfied: charset-normalizer<4,>=2 in c:\\python313\\lib\\site-packages (from requests>=2.20->openai) (3.4.2)\n",
      "Requirement already satisfied: idna<4,>=2.5 in c:\\python313\\lib\\site-packages (from requests>=2.20->openai) (3.10)\n",
      "Requirement already satisfied: urllib3<3,>=1.21.1 in c:\\python313\\lib\\site-packages (from requests>=2.20->openai) (2.4.0)\n",
      "Requirement already satisfied: certifi>=2017.4.17 in c:\\python313\\lib\\site-packages (from requests>=2.20->openai) (2025.4.26)\n",
      "Requirement already satisfied: sympy>=1.13.3 in c:\\python313\\lib\\site-packages (from torch>=1.11.0->sentence-transformers) (1.14.0)\n",
      "Requirement already satisfied: networkx in c:\\python313\\lib\\site-packages (from torch>=1.11.0->sentence-transformers) (3.4.2)\n",
      "Requirement already satisfied: jinja2 in c:\\python313\\lib\\site-packages (from torch>=1.11.0->sentence-transformers) (3.1.6)\n",
      "Requirement already satisfied: setuptools in c:\\python313\\lib\\site-packages (from torch>=1.11.0->sentence-transformers) (80.2.0)\n",
      "Requirement already satisfied: colorama in c:\\users\\rehan's pc\\appdata\\roaming\\python\\python313\\site-packages (from tqdm->sentence-transformers) (0.4.6)\n",
      "Requirement already satisfied: regex!=2019.12.17 in c:\\python313\\lib\\site-packages (from transformers<5.0.0,>=4.41.0->sentence-transformers) (2024.11.6)\n",
      "Requirement already satisfied: tokenizers<0.22,>=0.21 in c:\\python313\\lib\\site-packages (from transformers<5.0.0,>=4.41.0->sentence-transformers) (0.21.1)\n",
      "Requirement already satisfied: safetensors>=0.4.3 in c:\\python313\\lib\\site-packages (from transformers<5.0.0,>=4.41.0->sentence-transformers) (0.5.3)\n",
      "Requirement already satisfied: aiohappyeyeballs>=2.3.0 in c:\\python313\\lib\\site-packages (from aiohttp->openai) (2.6.1)\n",
      "Requirement already satisfied: aiosignal>=1.1.2 in c:\\python313\\lib\\site-packages (from aiohttp->openai) (1.3.2)\n",
      "Requirement already satisfied: attrs>=17.3.0 in c:\\python313\\lib\\site-packages (from aiohttp->openai) (25.3.0)\n",
      "Requirement already satisfied: frozenlist>=1.1.1 in c:\\python313\\lib\\site-packages (from aiohttp->openai) (1.6.0)\n",
      "Requirement already satisfied: multidict<7.0,>=4.5 in c:\\python313\\lib\\site-packages (from aiohttp->openai) (6.4.3)\n",
      "Requirement already satisfied: propcache>=0.2.0 in c:\\python313\\lib\\site-packages (from aiohttp->openai) (0.3.1)\n",
      "Requirement already satisfied: yarl<2.0,>=1.17.0 in c:\\python313\\lib\\site-packages (from aiohttp->openai) (1.20.0)\n",
      "Requirement already satisfied: joblib>=1.2.0 in c:\\python313\\lib\\site-packages (from scikit-learn->sentence-transformers) (1.4.2)\n",
      "Requirement already satisfied: threadpoolctl>=3.1.0 in c:\\python313\\lib\\site-packages (from scikit-learn->sentence-transformers) (3.6.0)\n",
      "Requirement already satisfied: mpmath<1.4,>=1.1.0 in c:\\python313\\lib\\site-packages (from sympy>=1.13.3->torch>=1.11.0->sentence-transformers) (1.3.0)\n",
      "Requirement already satisfied: MarkupSafe>=2.0 in c:\\python313\\lib\\site-packages (from jinja2->torch>=1.11.0->sentence-transformers) (3.0.2)\n"
     ]
    }
   ],
   "source": [
    "# 📦 Install dependencies\n",
    "%pip install faiss-cpu sentence-transformers pandas openai"
   ]
  },
  {
   "cell_type": "code",
   "execution_count": 2,
   "id": "afdb7f31",
   "metadata": {},
   "outputs": [
    {
     "name": "stderr",
     "output_type": "stream",
     "text": [
      "c:\\Python313\\Lib\\site-packages\\tqdm\\auto.py:21: TqdmWarning: IProgress not found. Please update jupyter and ipywidgets. See https://ipywidgets.readthedocs.io/en/stable/user_install.html\n",
      "  from .autonotebook import tqdm as notebook_tqdm\n"
     ]
    }
   ],
   "source": [
    "# 📚 Import libraries\n",
    "import faiss\n",
    "import pandas as pd\n",
    "import numpy as np\n",
    "from sentence_transformers import SentenceTransformer\n",
    "import openai"
   ]
  },
  {
   "cell_type": "code",
   "execution_count": 3,
   "id": "4e38ec1e",
   "metadata": {},
   "outputs": [],
   "source": [
    "# 🔑 Set your OpenRouter API key (free at https://openrouter.ai)\n",
    "openai.api_key = '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'\n",
    "openai.api_base = 'https://openrouter.ai/api/v1'"
   ]
  },
  {
   "cell_type": "code",
   "execution_count": 4,
   "id": "adf2563d",
   "metadata": {},
   "outputs": [],
   "source": [
    "# 📂 Load FAISS index and product data\n",
    "index = faiss.read_index('halawa_index.faiss')\n",
    "df = pd.read_csv('halawa_docs.csv')"
   ]
  },
  {
   "cell_type": "code",
   "execution_count": 5,
   "id": "33c16342",
   "metadata": {},
   "outputs": [],
   "source": [
    "# 🤖 Load sentence-transformer model\n",
    "embedder = SentenceTransformer('all-MiniLM-L6-v2')"
   ]
  },
  {
   "cell_type": "code",
   "execution_count": 6,
   "id": "357f5f28",
   "metadata": {},
   "outputs": [],
   "source": [
    "# 🔍 Search product using FAISS\n",
    "def search_product(query, top_k=1):\n",
    "    query_vec = embedder.encode([query], convert_to_numpy=True).astype('float32')\n",
    "    distances, indices = index.search(query_vec, top_k)\n",
    "    return df.iloc[indices[0]]"
   ]
  },
  {
   "cell_type": "code",
   "execution_count": 14,
   "id": "ef43e8bf",
   "metadata": {},
   "outputs": [],
   "source": [
    "# 🧠 Generate persuasive response using OpenRouter\n",
    "def generate_sales_reply(user_query):\n",
    "    results = search_product(user_query)\n",
    "    row = results.iloc[0]\n",
    "    product = row['product_name']\n",
    "    desc = row['description']\n",
    "    features = row['features']\n",
    "    benefits = row['benefits']\n",
    "\n",
    "    prompt = f\"\"\"\n",
    "You are a helpful and persuasive sales assistant for a natural skincare brand.\n",
    "Customer asked: '{user_query}'\n",
    "\n",
    "Suggest product: {product}\n",
    "Description: {desc}\n",
    "Features: {features}\n",
    "Benefits: {benefits}\n",
    "\n",
    "Reply in a friendly, human tone that acknowledges concerns and promotes benefits.\n",
    "\"\"\"\n",
    "\n",
    "    response = openai.ChatCompletion.create(\n",
    "        model='mistralai/mistral-small-3.1-24b-instruct:free',  # You can also use 'llama3' or 'gpt-3.5-turbo' if enabled in your OpenRouter account\n",
    "        messages=[\n",
    "            {\"role\": \"system\", \"content\": \"You are a persuasive and friendly e-commerce sales agent.\"},\n",
    "            {\"role\": \"user\", \"content\": prompt}\n",
    "        ]\n",
    "    )\n",
    "    return response['choices'][0]['message']['content']"
   ]
  },
  {
   "cell_type": "code",
   "execution_count": 16,
   "id": "3508aa7e",
   "metadata": {},
   "outputs": [
    {
     "name": "stdout",
     "output_type": "stream",
     "text": [
      "\n",
      "🤖 Salesbot:\n",
      "Hello! I'm sorry to hear that you didn't like the previous product. I understand that finding the right skincare product can be a journey, and I'm here to help you find something that suits your needs.\n",
      "\n",
      "You mentioned you're interested in hair removal, so I'd like to suggest our **Silky Smooth Trio**. This comprehensive bundle includes everything you need for a complete waxing experience at home.\n",
      "\n",
      "The **Breeze Pure Halawa Wax** is gentle and natural, making it a great choice for sensitive skin. It warms up easily and provides a clean, smooth finish. Plus, it comes with a **wooden spatula** for easy application and **50 Feather Feel Wax Strips** for a quick and efficient removal.\n",
      "\n",
      "Here's why I think you'll love it:\n",
      "\n",
      "- **All-in-one solution**: No need to buy any extra tools or accessories.\n",
      "- **Easy at-home waxing**: Save time and money by waxing comfortably at home.\n",
      "- **Cost-effective**: With 50 wax strips included, you'll get plenty of uses out of this kit.\n",
      "\n",
      "If you have any concerns about sensitivity or allergies, please let me know. We can discuss some of our other natural, gentle hair removal alternatives as well.\n",
      "\n",
      "What do you think? I'm here to help, so if you have any other questions or concerns, just let me know!\n"
     ]
    }
   ],
   "source": [
    "# 💬 Chat with the bot\n",
    "query = input(\"Customer: \")\n",
    "print(\"\\n🤖 Salesbot:\")\n",
    "print(generate_sales_reply(query))"
   ]
  }
 ],
 "metadata": {
  "kernelspec": {
   "display_name": "Python 3",
   "language": "python",
   "name": "python3"
  },
  "language_info": {
   "codemirror_mode": {
    "name": "ipython",
    "version": 3
   },
   "file_extension": ".py",
   "mimetype": "text/x-python",
   "name": "python",
   "nbconvert_exporter": "python",
   "pygments_lexer": "ipython3",
   "version": "3.13.1"
  }
 },
 "nbformat": 4,
 "nbformat_minor": 5
}
